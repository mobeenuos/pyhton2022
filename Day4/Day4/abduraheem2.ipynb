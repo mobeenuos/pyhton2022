{
 "cells": [
  {
   "cell_type": "code",
   "execution_count": 5,
   "metadata": {},
   "outputs": [
    {
     "ename": "SyntaxError",
     "evalue": "invalid syntax (<ipython-input-5-7a3197530312>, line 2)",
     "output_type": "error",
     "traceback": [
      "\u001b[1;36m  File \u001b[1;32m\"<ipython-input-5-7a3197530312>\"\u001b[1;36m, line \u001b[1;32m2\u001b[0m\n\u001b[1;33m    if name = Mobeen:\u001b[0m\n\u001b[1;37m            ^\u001b[0m\n\u001b[1;31mSyntaxError\u001b[0m\u001b[1;31m:\u001b[0m invalid syntax\n"
     ]
    }
   ],
   "source": [
    "name = Mobeen\n",
    "if name = Mobeen:\n",
    "print (\"You are right\")\n",
    "else: \n",
    "    print (\"You are wrong\")\n",
    "name = Naeem"
   ]
  },
  {
   "cell_type": "markdown",
   "metadata": {},
   "source": [
    "**Function**"
   ]
  },
  {
   "cell_type": "code",
   "execution_count": null,
   "metadata": {},
   "outputs": [],
   "source": [
    "df = (heig)"
   ]
  },
  {
   "cell_type": "markdown",
   "metadata": {},
   "source": [
    "*****Loops***** (**For Loop** and **while loop**)"
   ]
  },
  {
   "cell_type": "code",
   "execution_count": 5,
   "metadata": {},
   "outputs": [
    {
     "name": "stdout",
     "output_type": "stream",
     "text": [
      "Pakistan zinda baad\n",
      "Pakistan zinda baad\n",
      "Pakistan zinda baad\n",
      "Pakistan zinda baad\n",
      "Pakistan zinda baad\n",
      "Pakistan zinda baad\n",
      "Pakistan zinda baad\n",
      "Pakistan zinda baad\n",
      "Pakistan zinda baad\n",
      "Pakistan zinda baad\n",
      "Pakistan zinda baad\n",
      "Pakistan zinda baad\n",
      "Pakistan zinda baad\n",
      "Pakistan zinda baad\n",
      "Pakistan zinda baad\n",
      "Pakistan zinda baad\n",
      "Pakistan zinda baad\n",
      "Pakistan zinda baad\n",
      "Pakistan zinda baad\n",
      "Pakistan zinda baad\n"
     ]
    }
   ],
   "source": [
    "i=1\n",
    "while (i<=20):\n",
    "    print(\"Pakistan zinda baad\")\n",
    "    i=i+1\n"
   ]
  },
  {
   "cell_type": "code",
   "execution_count": 7,
   "metadata": {},
   "outputs": [
    {
     "name": "stdout",
     "output_type": "stream",
     "text": [
      "Pakistan zinda baad\n",
      "Pakistan zinda baad\n",
      "Pakistan zinda baad\n",
      "Pakistan zinda baad\n",
      "Pakistan zinda baad\n",
      "Pakistan zinda baad\n",
      "Pakistan zinda baad\n",
      "Pakistan zinda baad\n",
      "Pakistan zinda baad\n",
      "Pakistan zinda baad\n",
      "Pakistan zinda baad\n",
      "Pakistan zinda baad\n",
      "Pakistan zinda baad\n",
      "Pakistan zinda baad\n",
      "Pakistan zinda baad\n",
      "Pakistan zinda baad\n",
      "Pakistan zinda baad\n",
      "Pakistan zinda baad\n",
      "Pakistan zinda baad\n",
      "Pakistan zinda baad\n",
      "Pakistan zinda baad\n"
     ]
    }
   ],
   "source": [
    "i=0.5\n",
    "while (i<=10.5):\n",
    "    print(\"Pakistan zinda baad\")\n",
    "    i=i+0.5"
   ]
  },
  {
   "cell_type": "code",
   "execution_count": null,
   "metadata": {},
   "outputs": [],
   "source": [
    "i=1\n",
    "while (i<=20):\n",
    "    print(\"Pakistan zinda baad\")\n",
    "    i=i+1"
   ]
  },
  {
   "cell_type": "code",
   "execution_count": 8,
   "metadata": {},
   "outputs": [
    {
     "ename": "SyntaxError",
     "evalue": "invalid syntax (<ipython-input-8-c5e3268c50bf>, line 4)",
     "output_type": "error",
     "traceback": [
      "\u001b[1;36m  File \u001b[1;32m\"<ipython-input-8-c5e3268c50bf>\"\u001b[1;36m, line \u001b[1;32m4\u001b[0m\n\u001b[1;33m    while(i<len(week))\u001b[0m\n\u001b[1;37m                      ^\u001b[0m\n\u001b[1;31mSyntaxError\u001b[0m\u001b[1;31m:\u001b[0m invalid syntax\n"
     ]
    }
   ],
   "source": [
    "#list\n",
    "week = [\"mon\",\"tue\",\"wed\",\"thur\",\"fri\",\"sat\",\"sun\"]\n",
    "i=0\n",
    "while(i<len(week))\n",
    "print(seek[i])\n",
    "i = i + 1\n",
    "\n",
    "\n"
   ]
  }
 ],
 "metadata": {
  "kernelspec": {
   "display_name": "Python 3.6.5 64-bit ('Anaconda3_64')",
   "language": "python",
   "name": "python3"
  },
  "language_info": {
   "codemirror_mode": {
    "name": "ipython",
    "version": 3
   },
   "file_extension": ".py",
   "mimetype": "text/x-python",
   "name": "python",
   "nbconvert_exporter": "python",
   "pygments_lexer": "ipython3",
   "version": "3.6.5"
  },
  "orig_nbformat": 4,
  "vscode": {
   "interpreter": {
    "hash": "6a9640d6d4c2bfa7559381109e631d3691a1bfbebe93f362e598271c4ab152ca"
   }
  }
 },
 "nbformat": 4,
 "nbformat_minor": 2
}
