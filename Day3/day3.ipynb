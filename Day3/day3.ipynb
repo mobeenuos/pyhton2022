{
 "cells": [
  {
   "cell_type": "markdown",
   "metadata": {},
   "source": [
    "### **Practice session with Aammar**"
   ]
  },
  {
   "cell_type": "code",
   "execution_count": 6,
   "metadata": {},
   "outputs": [
    {
     "ename": "SyntaxError",
     "evalue": "invalid syntax (<ipython-input-6-870e4e00a78f>, line 23)",
     "output_type": "error",
     "traceback": [
      "\u001b[1;36m  File \u001b[1;32m\"<ipython-input-6-870e4e00a78f>\"\u001b[1;36m, line \u001b[1;32m23\u001b[0m\n\u001b[1;33m    1+4k\u001b[0m\n\u001b[1;37m       ^\u001b[0m\n\u001b[1;31mSyntaxError\u001b[0m\u001b[1;31m:\u001b[0m invalid syntax\n"
     ]
    }
   ],
   "source": [
    "#string\n",
    "print (\"Mobeen\")\n",
    "\n",
    "\n",
    "\n",
    "# numeric\n",
    "[1,2,3,3,4,5,8,5,6,7]\n",
    "\n",
    "\n",
    "# boolean\n",
    "\n",
    "True\n",
    "False\n",
    "\n",
    "#float \n",
    "\n",
    "1.23\n",
    "2.2\n",
    "5.4\n",
    "\n",
    "\n",
    "#complex number\n",
    "1+4k\n",
    "\n",
    "#list\n",
    "\n",
    "[1,2,3,3,4,5,8,5,6,7]\n",
    "\n",
    "\n",
    "# dictionaries\n",
    "\n",
    "{'Mobeen': 4, 'Naeem' : 5, }\n",
    "\n",
    "​{ 1 : A, 2 : B, 3 : C } ---. dict\n",
    "\n",
    "#tuple \n",
    "\n",
    "tup1=(1,2,3,5,6,7,7,5,4,3,3,3,56,45,3,2)\n",
    "\n",
    "#set\n",
    "set1= {1,2,3,5,6,7,7,5,4,3,3,3,56,45,3,2}\n",
    "\n",
    "\n",
    "\n",
    "\n",
    "\n",
    "\n",
    "\n",
    "\n",
    "\n",
    "\n",
    "\n",
    "\n",
    "\n"
   ]
  }
 ],
 "metadata": {
  "kernelspec": {
   "display_name": "Python 3.6.2 64-bit ('Anaconda3')",
   "language": "python",
   "name": "python3"
  },
  "language_info": {
   "codemirror_mode": {
    "name": "ipython",
    "version": 3
   },
   "file_extension": ".py",
   "mimetype": "text/x-python",
   "name": "python",
   "nbconvert_exporter": "python",
   "pygments_lexer": "ipython3",
   "version": "3.6.2"
  },
  "orig_nbformat": 4,
  "vscode": {
   "interpreter": {
    "hash": "ad2bdc8ecc057115af97d19610ffacc2b4e99fae6737bb82f5d7fb13d2f2c186"
   }
  }
 },
 "nbformat": 4,
 "nbformat_minor": 2
}
